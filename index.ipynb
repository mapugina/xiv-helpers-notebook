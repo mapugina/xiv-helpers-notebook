{
 "cells": [
  {
   "cell_type": "code",
   "execution_count": 6,
   "metadata": {},
   "outputs": [],
   "source": [
    "import pandas as pd\n",
    "import math\n",
    "levels = pd.read_csv(\"./experience.csv\", index_col=0)"
   ]
  },
  {
   "cell_type": "code",
   "execution_count": 7,
   "metadata": {},
   "outputs": [],
   "source": [
    "# Settings\n",
    "currentLevel = 79\n",
    "currentExp = 0\n",
    "desiredLevel = 80\n",
    "experiencePer = 900_000\n",
    "qualityScalar = 2.0 # Set to 2 if you are expecting HQ or 1 if you aren't\n"
   ]
  },
  {
   "cell_type": "code",
   "execution_count": 8,
   "metadata": {},
   "outputs": [
    {
     "data": {
      "text/plain": [
       "6"
      ]
     },
     "execution_count": 8,
     "metadata": {},
     "output_type": "execute_result"
    }
   ],
   "source": [
    "experiencePerHit = experiencePer * qualityScalar\n",
    "requiredExperience = levels.loc[currentLevel:desiredLevel][\"experience\"].sum()\n",
    "requiredHits = math.ceil(requiredExperience / experiencePerHit)\n",
    "\n",
    "requiredHits"
   ]
  }
 ],
 "metadata": {
  "kernelspec": {
   "display_name": "Python 3",
   "language": "python",
   "name": "python3"
  },
  "language_info": {
   "codemirror_mode": {
    "name": "ipython",
    "version": 3
   },
   "file_extension": ".py",
   "mimetype": "text/x-python",
   "name": "python",
   "nbconvert_exporter": "python",
   "pygments_lexer": "ipython3",
   "version": "3.11.5"
  },
  "orig_nbformat": 4
 },
 "nbformat": 4,
 "nbformat_minor": 2
}
